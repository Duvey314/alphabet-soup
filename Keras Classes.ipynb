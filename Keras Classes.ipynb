{
 "cells": [
  {
   "cell_type": "code",
   "execution_count": 1,
   "metadata": {},
   "outputs": [],
   "source": [
    "# Import our dependencies\n",
    "import pandas as pd\n",
    "import matplotlib as plt\n",
    "from sklearn.datasets import make_blobs\n",
    "import sklearn as skl\n",
    "import tensorflow as tf"
   ]
  },
  {
   "cell_type": "code",
   "execution_count": 2,
   "metadata": {},
   "outputs": [
    {
     "data": {
      "text/plain": [
       "<matplotlib.axes._subplots.AxesSubplot at 0x1cd1c2a5248>"
      ]
     },
     "execution_count": 2,
     "metadata": {},
     "output_type": "execute_result"
    },
    {
     "data": {
      "image/png": "[encoded data removed]",
      "text/plain": [
       "<Figure size 432x288 with 2 Axes>"
      ]
     },
     "metadata": {
      "needs_background": "light"
     },
     "output_type": "display_data"
    }
   ],
   "source": [
    "# Generate dummy dataset\n",
    "X, y = make_blobs(n_samples=1000, centers=2, n_features=2, random_state=78)\n",
    "\n",
    "# Creating a DataFrame with the dummy data\n",
    "df = pd.DataFrame(X, columns=[\"Feature 1\", \"Feature 2\"])\n",
    "df[\"Target\"] = y\n",
    "\n",
    "# Plotting the dummy data\n",
    "df.plot.scatter(x=\"Feature 1\", y=\"Feature 2\", c=\"Target\", colormap=\"winter\")\n"
   ]
  },
  {
   "cell_type": "code",
   "execution_count": 3,
   "metadata": {},
   "outputs": [],
   "source": [
    "# Use sklearn to split dataset\n",
    "from sklearn.model_selection import train_test_split\n",
    "X_train, X_test, y_train, y_test = train_test_split(X, y, random_state=78)"
   ]
  },
  {
   "cell_type": "code",
   "execution_count": 4,
   "metadata": {},
   "outputs": [],
   "source": [
    "# Create scaler instance\n",
    "X_scaler = skl.preprocessing.StandardScaler()\n",
    "\n",
    "# Fit the scaler\n",
    "X_scaler.fit(X_train)\n",
    "\n",
    "# Scale the data\n",
    "X_train_scaled = X_scaler.transform(X_train)\n",
    "X_test_scaled = X_scaler.transform(X_test)"
   ]
  },
  {
   "cell_type": "code",
   "execution_count": 5,
   "metadata": {},
   "outputs": [],
   "source": [
    "# Create the Keras Sequential model\n",
    "nn_model = tf.keras.models.Sequential()"
   ]
  },
  {
   "cell_type": "code",
   "execution_count": 6,
   "metadata": {},
   "outputs": [],
   "source": [
    "# Add our first Dense layer, including the input layer\n",
    "nn_model.add(tf.keras.layers.Dense(units=1, activation=\"relu\", input_dim=2))"
   ]
  },
  {
   "cell_type": "code",
   "execution_count": 7,
   "metadata": {},
   "outputs": [],
   "source": [
    "# Add the output layer that uses a probability activation function\n",
    "nn_model.add(tf.keras.layers.Dense(units=1, activation=\"sigmoid\"))"
   ]
  },
  {
   "cell_type": "code",
   "execution_count": 8,
   "metadata": {},
   "outputs": [
    {
     "name": "stdout",
     "output_type": "stream",
     "text": [
      "Model: \"sequential\"\n",
      "_________________________________________________________________\n",
      "Layer (type)                 Output Shape              Param #   \n",
      "=================================================================\n",
      "dense (Dense)                (None, 1)                 3         \n",
      "_________________________________________________________________\n",
      "dense_1 (Dense)              (None, 1)                 2         \n",
      "=================================================================\n",
      "Total params: 5\n",
      "Trainable params: 5\n",
      "Non-trainable params: 0\n",
      "_________________________________________________________________\n"
     ]
    }
   ],
   "source": [
    "# Check the structure of the Sequential model\n",
    "nn_model.summary()"
   ]
  },
  {
   "cell_type": "code",
   "execution_count": 9,
   "metadata": {},
   "outputs": [],
   "source": [
    "# Compile the Sequential model together and customize metrics\n",
    "nn_model.compile(loss=\"binary_crossentropy\", optimizer=\"adam\", metrics=[\"accuracy\"])\n"
   ]
  },
  {
   "cell_type": "code",
   "execution_count": 10,
   "metadata": {},
   "outputs": [
    {
     "name": "stdout",
     "output_type": "stream",
     "text": [
      "Epoch 1/100\n",
      "24/24 [==============================] - 0s 709us/step - loss: 0.5131 - accuracy: 0.9800\n",
      "Epoch 2/100\n",
      "24/24 [==============================] - 0s 542us/step - loss: 0.4999 - accuracy: 1.0000\n",
      "Epoch 3/100\n",
      "24/24 [==============================] - 0s 542us/step - loss: 0.4867 - accuracy: 1.0000\n",
      "Epoch 4/100\n",
      "24/24 [==============================] - 0s 542us/step - loss: 0.4737 - accuracy: 0.9987\n",
      "Epoch 5/100\n",
      "24/24 [==============================] - 0s 542us/step - loss: 0.4608 - accuracy: 0.9987\n",
      "Epoch 6/100\n",
      "24/24 [==============================] - 0s 500us/step - loss: 0.4482 - accuracy: 0.9973\n",
      "Epoch 7/100\n",
      "24/24 [==============================] - 0s 500us/step - loss: 0.4359 - accuracy: 0.9973\n",
      "Epoch 8/100\n",
      "24/24 [==============================] - 0s 583us/step - loss: 0.4239 - accuracy: 0.9973\n",
      "Epoch 9/100\n",
      "24/24 [==============================] - 0s 542us/step - loss: 0.4122 - accuracy: 0.9960\n",
      "Epoch 10/100\n",
      "24/24 [==============================] - 0s 500us/step - loss: 0.4009 - accuracy: 0.9960\n",
      "Epoch 11/100\n",
      "24/24 [==============================] - 0s 542us/step - loss: 0.3900 - accuracy: 0.9960\n",
      "Epoch 12/100\n",
      "24/24 [==============================] - 0s 542us/step - loss: 0.3793 - accuracy: 0.9960\n",
      "Epoch 13/100\n",
      "24/24 [==============================] - 0s 500us/step - loss: 0.3691 - accuracy: 0.9960\n",
      "Epoch 14/100\n",
      "24/24 [==============================] - ETA: 0s - loss: 0.3534 - accuracy: 1.00 - 0s 500us/step - loss: 0.3591 - accuracy: 0.9960\n",
      "Epoch 15/100\n",
      "24/24 [==============================] - 0s 583us/step - loss: 0.3496 - accuracy: 0.9960\n",
      "Epoch 16/100\n",
      "24/24 [==============================] - 0s 542us/step - loss: 0.3403 - accuracy: 0.9960\n",
      "Epoch 17/100\n",
      "24/24 [==============================] - 0s 542us/step - loss: 0.3315 - accuracy: 0.9960\n",
      "Epoch 18/100\n",
      "24/24 [==============================] - 0s 542us/step - loss: 0.3229 - accuracy: 0.9960\n",
      "Epoch 19/100\n",
      "24/24 [==============================] - 0s 542us/step - loss: 0.3147 - accuracy: 0.9960\n",
      "Epoch 20/100\n",
      "24/24 [==============================] - 0s 583us/step - loss: 0.3067 - accuracy: 0.9960\n",
      "Epoch 21/100\n",
      "24/24 [==============================] - 0s 583us/step - loss: 0.2991 - accuracy: 0.9960\n",
      "Epoch 22/100\n",
      "24/24 [==============================] - 0s 542us/step - loss: 0.2916 - accuracy: 0.9960\n",
      "Epoch 23/100\n",
      "24/24 [==============================] - 0s 542us/step - loss: 0.2845 - accuracy: 0.9960\n",
      "Epoch 24/100\n",
      "24/24 [==============================] - 0s 500us/step - loss: 0.2777 - accuracy: 0.9960\n",
      "Epoch 25/100\n",
      "24/24 [==============================] - 0s 542us/step - loss: 0.2710 - accuracy: 0.9960\n",
      "Epoch 26/100\n",
      "24/24 [==============================] - 0s 584us/step - loss: 0.2646 - accuracy: 0.9960\n",
      "Epoch 27/100\n",
      "24/24 [==============================] - 0s 542us/step - loss: 0.2584 - accuracy: 0.9973\n",
      "Epoch 28/100\n",
      "24/24 [==============================] - 0s 542us/step - loss: 0.2525 - accuracy: 0.9973\n",
      "Epoch 29/100\n",
      "24/24 [==============================] - 0s 542us/step - loss: 0.2467 - accuracy: 0.9973\n",
      "Epoch 30/100\n",
      "24/24 [==============================] - 0s 542us/step - loss: 0.2411 - accuracy: 0.9987\n",
      "Epoch 31/100\n",
      "24/24 [==============================] - 0s 583us/step - loss: 0.2358 - accuracy: 0.9987\n",
      "Epoch 32/100\n",
      "24/24 [==============================] - 0s 583us/step - loss: 0.2306 - accuracy: 0.9987\n",
      "Epoch 33/100\n",
      "24/24 [==============================] - ETA: 0s - loss: 0.2724 - accuracy: 1.00 - 0s 542us/step - loss: 0.2256 - accuracy: 1.0000\n",
      "Epoch 34/100\n",
      "24/24 [==============================] - ETA: 0s - loss: 0.2358 - accuracy: 1.00 - 0s 542us/step - loss: 0.2206 - accuracy: 1.0000\n",
      "Epoch 35/100\n",
      "24/24 [==============================] - 0s 500us/step - loss: 0.2159 - accuracy: 1.0000\n",
      "Epoch 36/100\n",
      "24/24 [==============================] - 0s 542us/step - loss: 0.2113 - accuracy: 1.0000\n",
      "Epoch 37/100\n",
      "24/24 [==============================] - 0s 584us/step - loss: 0.2069 - accuracy: 1.0000\n",
      "Epoch 38/100\n",
      "24/24 [==============================] - 0s 583us/step - loss: 0.2026 - accuracy: 1.0000\n",
      "Epoch 39/100\n",
      "24/24 [==============================] - 0s 542us/step - loss: 0.1984 - accuracy: 1.0000\n",
      "Epoch 40/100\n",
      "24/24 [==============================] - 0s 542us/step - loss: 0.1943 - accuracy: 1.0000\n",
      "Epoch 41/100\n",
      "24/24 [==============================] - 0s 500us/step - loss: 0.1903 - accuracy: 1.0000\n",
      "Epoch 42/100\n",
      "24/24 [==============================] - 0s 542us/step - loss: 0.1865 - accuracy: 1.0000\n",
      "Epoch 43/100\n",
      "24/24 [==============================] - ETA: 0s - loss: 0.1780 - accuracy: 1.00 - 0s 542us/step - loss: 0.1828 - accuracy: 1.0000\n",
      "Epoch 44/100\n",
      "24/24 [==============================] - 0s 500us/step - loss: 0.1791 - accuracy: 1.0000\n",
      "Epoch 45/100\n",
      "24/24 [==============================] - 0s 542us/step - loss: 0.1756 - accuracy: 1.0000\n",
      "Epoch 46/100\n",
      "24/24 [==============================] - 0s 542us/step - loss: 0.1722 - accuracy: 1.0000\n",
      "Epoch 47/100\n",
      "24/24 [==============================] - 0s 583us/step - loss: 0.1688 - accuracy: 1.0000\n",
      "Epoch 48/100\n",
      "24/24 [==============================] - 0s 542us/step - loss: 0.1655 - accuracy: 1.0000\n",
      "Epoch 49/100\n",
      "24/24 [==============================] - 0s 500us/step - loss: 0.1624 - accuracy: 1.0000\n",
      "Epoch 50/100\n",
      "24/24 [==============================] - 0s 584us/step - loss: 0.1593 - accuracy: 1.0000\n",
      "Epoch 51/100\n",
      "24/24 [==============================] - 0s 542us/step - loss: 0.1563 - accuracy: 1.0000\n",
      "Epoch 52/100\n",
      "24/24 [==============================] - 0s 542us/step - loss: 0.1533 - accuracy: 1.0000\n",
      "Epoch 53/100\n",
      "24/24 [==============================] - 0s 542us/step - loss: 0.1505 - accuracy: 1.0000\n",
      "Epoch 54/100\n",
      "24/24 [==============================] - 0s 584us/step - loss: 0.1477 - accuracy: 1.0000\n",
      "Epoch 55/100\n",
      "24/24 [==============================] - 0s 542us/step - loss: 0.1450 - accuracy: 1.0000\n",
      "Epoch 56/100\n",
      "24/24 [==============================] - 0s 542us/step - loss: 0.1424 - accuracy: 1.0000\n",
      "Epoch 57/100\n",
      "24/24 [==============================] - 0s 542us/step - loss: 0.1398 - accuracy: 1.0000\n",
      "Epoch 58/100\n",
      "24/24 [==============================] - 0s 542us/step - loss: 0.1373 - accuracy: 1.0000\n",
      "Epoch 59/100\n",
      "24/24 [==============================] - 0s 542us/step - loss: 0.1348 - accuracy: 1.0000\n",
      "Epoch 60/100\n",
      "24/24 [==============================] - 0s 542us/step - loss: 0.1324 - accuracy: 1.0000\n",
      "Epoch 61/100\n",
      "24/24 [==============================] - 0s 542us/step - loss: 0.1301 - accuracy: 1.0000\n",
      "Epoch 62/100\n",
      "24/24 [==============================] - 0s 542us/step - loss: 0.1278 - accuracy: 1.0000\n",
      "Epoch 63/100\n",
      "24/24 [==============================] - 0s 542us/step - loss: 0.1256 - accuracy: 1.0000\n",
      "Epoch 64/100\n",
      "24/24 [==============================] - 0s 583us/step - loss: 0.1234 - accuracy: 1.0000\n",
      "Epoch 65/100\n",
      "24/24 [==============================] - 0s 583us/step - loss: 0.1213 - accuracy: 1.0000\n",
      "Epoch 66/100\n",
      "24/24 [==============================] - 0s 542us/step - loss: 0.1192 - accuracy: 1.0000\n",
      "Epoch 67/100\n",
      "24/24 [==============================] - 0s 500us/step - loss: 0.1172 - accuracy: 1.0000\n",
      "Epoch 68/100\n",
      "24/24 [==============================] - 0s 542us/step - loss: 0.1152 - accuracy: 1.0000\n",
      "Epoch 69/100\n",
      "24/24 [==============================] - 0s 500us/step - loss: 0.1133 - accuracy: 1.0000\n",
      "Epoch 70/100\n",
      "24/24 [==============================] - 0s 542us/step - loss: 0.1114 - accuracy: 1.0000\n",
      "Epoch 71/100\n",
      "24/24 [==============================] - 0s 583us/step - loss: 0.1095 - accuracy: 1.0000\n",
      "Epoch 72/100\n",
      "24/24 [==============================] - 0s 583us/step - loss: 0.1077 - accuracy: 1.0000\n",
      "Epoch 73/100\n",
      "24/24 [==============================] - 0s 542us/step - loss: 0.1059 - accuracy: 1.0000\n",
      "Epoch 74/100\n",
      "24/24 [==============================] - 0s 583us/step - loss: 0.1042 - accuracy: 1.0000\n",
      "Epoch 75/100\n",
      "24/24 [==============================] - 0s 625us/step - loss: 0.1025 - accuracy: 1.0000\n",
      "Epoch 76/100\n",
      "24/24 [==============================] - 0s 625us/step - loss: 0.1009 - accuracy: 1.0000\n",
      "Epoch 77/100\n",
      "24/24 [==============================] - 0s 625us/step - loss: 0.0992 - accuracy: 1.0000\n",
      "Epoch 78/100\n",
      "24/24 [==============================] - 0s 625us/step - loss: 0.0976 - accuracy: 1.0000\n",
      "Epoch 79/100\n"
     ]
    },
    {
     "name": "stdout",
     "output_type": "stream",
     "text": [
      "24/24 [==============================] - 0s 583us/step - loss: 0.0961 - accuracy: 1.0000\n",
      "Epoch 80/100\n",
      "24/24 [==============================] - 0s 583us/step - loss: 0.0945 - accuracy: 1.0000\n",
      "Epoch 81/100\n",
      "24/24 [==============================] - 0s 542us/step - loss: 0.0930 - accuracy: 1.0000\n",
      "Epoch 82/100\n",
      "24/24 [==============================] - 0s 542us/step - loss: 0.0916 - accuracy: 1.0000\n",
      "Epoch 83/100\n",
      "24/24 [==============================] - 0s 542us/step - loss: 0.0902 - accuracy: 1.0000\n",
      "Epoch 84/100\n",
      "24/24 [==============================] - 0s 542us/step - loss: 0.0888 - accuracy: 1.0000\n",
      "Epoch 85/100\n",
      "24/24 [==============================] - 0s 500us/step - loss: 0.0874 - accuracy: 1.0000\n",
      "Epoch 86/100\n",
      "24/24 [==============================] - 0s 542us/step - loss: 0.0860 - accuracy: 1.0000\n",
      "Epoch 87/100\n",
      "24/24 [==============================] - 0s 542us/step - loss: 0.0847 - accuracy: 1.0000\n",
      "Epoch 88/100\n",
      "24/24 [==============================] - 0s 542us/step - loss: 0.0834 - accuracy: 1.0000\n",
      "Epoch 89/100\n",
      "24/24 [==============================] - 0s 542us/step - loss: 0.0821 - accuracy: 1.0000\n",
      "Epoch 90/100\n",
      "24/24 [==============================] - 0s 542us/step - loss: 0.0809 - accuracy: 1.0000\n",
      "Epoch 91/100\n",
      "24/24 [==============================] - 0s 500us/step - loss: 0.0797 - accuracy: 1.0000\n",
      "Epoch 92/100\n",
      "24/24 [==============================] - 0s 500us/step - loss: 0.0785 - accuracy: 1.0000\n",
      "Epoch 93/100\n",
      "24/24 [==============================] - 0s 584us/step - loss: 0.0773 - accuracy: 1.0000\n",
      "Epoch 94/100\n",
      "24/24 [==============================] - ETA: 0s - loss: 0.0879 - accuracy: 1.00 - 0s 583us/step - loss: 0.0761 - accuracy: 1.0000\n",
      "Epoch 95/100\n",
      "24/24 [==============================] - 0s 583us/step - loss: 0.0750 - accuracy: 1.0000\n",
      "Epoch 96/100\n",
      "24/24 [==============================] - 0s 542us/step - loss: 0.0739 - accuracy: 1.0000\n",
      "Epoch 97/100\n",
      "24/24 [==============================] - 0s 542us/step - loss: 0.0728 - accuracy: 1.0000\n",
      "Epoch 98/100\n",
      "24/24 [==============================] - 0s 542us/step - loss: 0.0717 - accuracy: 1.0000\n",
      "Epoch 99/100\n",
      "24/24 [==============================] - ETA: 0s - loss: 0.0793 - accuracy: 1.00 - 0s 542us/step - loss: 0.0707 - accuracy: 1.0000\n",
      "Epoch 100/100\n",
      "24/24 [==============================] - 0s 500us/step - loss: 0.0697 - accuracy: 1.0000\n"
     ]
    }
   ],
   "source": [
    "# Fit the model to the training data\n",
    "fit_model = nn_model.fit(X_train_scaled, y_train, epochs=100)\n"
   ]
  },
  {
   "cell_type": "code",
   "execution_count": 11,
   "metadata": {},
   "outputs": [
    {
     "data": {
      "text/plain": [
       "<matplotlib.axes._subplots.AxesSubplot at 0x1cd1e1148c8>"
      ]
     },
     "execution_count": 11,
     "metadata": {},
     "output_type": "execute_result"
    },
    {
     "data": {
      "image/png": "[encoded data removed]",
      "text/plain": [
       "<Figure size 432x288 with 1 Axes>"
      ]
     },
     "metadata": {
      "needs_background": "light"
     },
     "output_type": "display_data"
    }
   ],
   "source": [
    "# Create a DataFrame containing training history\n",
    "history_df = pd.DataFrame(fit_model.history, index=range(1,len(fit_model.history[\"loss\"])+1))\n",
    "\n",
    "# Plot the loss\n",
    "history_df.plot(y=\"loss\")"
   ]
  },
  {
   "cell_type": "code",
   "execution_count": 12,
   "metadata": {},
   "outputs": [
    {
     "data": {
      "text/plain": [
       "<matplotlib.axes._subplots.AxesSubplot at 0x1cd1f2a8188>"
      ]
     },
     "execution_count": 12,
     "metadata": {},
     "output_type": "execute_result"
    },
    {
     "data": {
      "image/png": "[encoded data removed]",
      "text/plain": [
       "<Figure size 432x288 with 1 Axes>"
      ]
     },
     "metadata": {
      "needs_background": "light"
     },
     "output_type": "display_data"
    }
   ],
   "source": [
    "# Plot the accuracy\n",
    "history_df.plot(y=\"accuracy\")\n"
   ]
  },
  {
   "cell_type": "code",
   "execution_count": 13,
   "metadata": {},
   "outputs": [
    {
     "name": "stdout",
     "output_type": "stream",
     "text": [
      "8/8 - 0s - loss: 0.0710 - accuracy: 1.0000\n",
      "Loss: 0.0710061639547348, Accuracy: 1.0\n"
     ]
    }
   ],
   "source": [
    "# Evaluate the model using the test data\n",
    "model_loss, model_accuracy = nn_model.evaluate(X_test_scaled,y_test,verbose=2)\n",
    "print(f\"Loss: {model_loss}, Accuracy: {model_accuracy}\")"
   ]
  },
  {
   "cell_type": "code",
   "execution_count": 14,
   "metadata": {},
   "outputs": [
    {
     "data": {
      "text/plain": [
       "<matplotlib.axes._subplots.AxesSubplot at 0x1cd1f358a88>"
      ]
     },
     "execution_count": 14,
     "metadata": {},
     "output_type": "execute_result"
    },
    {
     "data": {
      "image/png": "[encoded data removed]",
      "text/plain": [
       "<Figure size 432x288 with 2 Axes>"
      ]
     },
     "metadata": {
      "needs_background": "light"
     },
     "output_type": "display_data"
    }
   ],
   "source": [
    "from sklearn.datasets import make_moons\n",
    "\n",
    "# Creating dummy nonlinear data\n",
    "X_moons, y_moons = make_moons(n_samples=1000, noise=0.08, random_state=78)\n",
    "\n",
    "# Transforming y_moons to a vertical vector\n",
    "y_moons = y_moons.reshape(-1, 1)\n",
    "\n",
    "# Creating a DataFrame to plot the nonlinear dummy data\n",
    "df_moons = pd.DataFrame(X_moons, columns=[\"Feature 1\", \"Feature 2\"])\n",
    "df_moons[\"Target\"] = y_moons\n",
    "\n",
    "# Plot the nonlinear dummy data\n",
    "df_moons.plot.scatter(x=\"Feature 1\",y=\"Feature 2\", c=\"Target\",colormap=\"winter\")\n"
   ]
  },
  {
   "cell_type": "code",
   "execution_count": 15,
   "metadata": {},
   "outputs": [],
   "source": [
    "# Create training and testing sets\n",
    "X_moon_train, X_moon_test, y_moon_train, y_moon_test = train_test_split(\n",
    "    X_moons, y_moons, random_state=78\n",
    ")\n",
    "\n",
    "# Create the scaler instance\n",
    "X_moon_scaler = skl.preprocessing.StandardScaler()\n",
    "\n",
    "# Fit the scaler\n",
    "X_moon_scaler.fit(X_moon_train)\n",
    "\n",
    "# Scale the data\n",
    "X_moon_train_scaled = X_moon_scaler.transform(X_moon_train)\n",
    "X_moon_test_scaled = X_moon_scaler.transform(X_moon_test)\n"
   ]
  },
  {
   "cell_type": "code",
   "execution_count": 16,
   "metadata": {},
   "outputs": [
    {
     "name": "stdout",
     "output_type": "stream",
     "text": [
      "Epoch 1/100\n",
      "24/24 [==============================] - 0s 1ms/step - loss: 1.1593 - accuracy: 0.4733\n",
      "Epoch 2/100\n",
      "24/24 [==============================] - 0s 792us/step - loss: 1.0268 - accuracy: 0.4947\n",
      "Epoch 3/100\n",
      "24/24 [==============================] - 0s 834us/step - loss: 0.9393 - accuracy: 0.5093\n",
      "Epoch 4/100\n",
      "24/24 [==============================] - 0s 792us/step - loss: 0.8807 - accuracy: 0.5253\n",
      "Epoch 5/100\n",
      "24/24 [==============================] - 0s 834us/step - loss: 0.8349 - accuracy: 0.5373\n",
      "Epoch 6/100\n",
      "24/24 [==============================] - 0s 792us/step - loss: 0.7994 - accuracy: 0.5507\n",
      "Epoch 7/100\n",
      "24/24 [==============================] - 0s 875us/step - loss: 0.7701 - accuracy: 0.5627\n",
      "Epoch 8/100\n",
      "24/24 [==============================] - 0s 833us/step - loss: 0.7453 - accuracy: 0.5787\n",
      "Epoch 9/100\n",
      "24/24 [==============================] - 0s 792us/step - loss: 0.7232 - accuracy: 0.5853\n",
      "Epoch 10/100\n",
      "24/24 [==============================] - 0s 792us/step - loss: 0.7034 - accuracy: 0.5947\n",
      "Epoch 11/100\n",
      "24/24 [==============================] - 0s 792us/step - loss: 0.6855 - accuracy: 0.6053\n",
      "Epoch 12/100\n",
      "24/24 [==============================] - 0s 834us/step - loss: 0.6689 - accuracy: 0.6120\n",
      "Epoch 13/100\n",
      "24/24 [==============================] - 0s 875us/step - loss: 0.6536 - accuracy: 0.6227\n",
      "Epoch 14/100\n",
      "24/24 [==============================] - 0s 917us/step - loss: 0.6393 - accuracy: 0.6347\n",
      "Epoch 15/100\n",
      "24/24 [==============================] - 0s 875us/step - loss: 0.6262 - accuracy: 0.6427\n",
      "Epoch 16/100\n",
      "24/24 [==============================] - 0s 834us/step - loss: 0.6134 - accuracy: 0.6493\n",
      "Epoch 17/100\n",
      "24/24 [==============================] - 0s 875us/step - loss: 0.6013 - accuracy: 0.6560\n",
      "Epoch 18/100\n",
      "24/24 [==============================] - 0s 875us/step - loss: 0.5897 - accuracy: 0.6707\n",
      "Epoch 19/100\n",
      "24/24 [==============================] - 0s 834us/step - loss: 0.5787 - accuracy: 0.6747\n",
      "Epoch 20/100\n",
      "24/24 [==============================] - 0s 834us/step - loss: 0.5678 - accuracy: 0.6813\n",
      "Epoch 21/100\n",
      "24/24 [==============================] - 0s 1ms/step - loss: 0.5566 - accuracy: 0.6880\n",
      "Epoch 22/100\n",
      "24/24 [==============================] - 0s 1ms/step - loss: 0.5457 - accuracy: 0.6893\n",
      "Epoch 23/100\n",
      "24/24 [==============================] - 0s 959us/step - loss: 0.5349 - accuracy: 0.6960\n",
      "Epoch 24/100\n",
      "24/24 [==============================] - 0s 1ms/step - loss: 0.5242 - accuracy: 0.7067\n",
      "Epoch 25/100\n",
      "24/24 [==============================] - 0s 1ms/step - loss: 0.5137 - accuracy: 0.7120\n",
      "Epoch 26/100\n",
      "24/24 [==============================] - 0s 1ms/step - loss: 0.5028 - accuracy: 0.7187\n",
      "Epoch 27/100\n",
      "24/24 [==============================] - 0s 1ms/step - loss: 0.4926 - accuracy: 0.7213\n",
      "Epoch 28/100\n",
      "24/24 [==============================] - 0s 1ms/step - loss: 0.4823 - accuracy: 0.7253\n",
      "Epoch 29/100\n",
      "24/24 [==============================] - 0s 1ms/step - loss: 0.4727 - accuracy: 0.7320\n",
      "Epoch 30/100\n",
      "24/24 [==============================] - 0s 917us/step - loss: 0.4629 - accuracy: 0.7400\n",
      "Epoch 31/100\n",
      "24/24 [==============================] - 0s 917us/step - loss: 0.4539 - accuracy: 0.7427\n",
      "Epoch 32/100\n",
      "24/24 [==============================] - 0s 959us/step - loss: 0.4452 - accuracy: 0.7520\n",
      "Epoch 33/100\n",
      "24/24 [==============================] - 0s 917us/step - loss: 0.4371 - accuracy: 0.7533\n",
      "Epoch 34/100\n",
      "24/24 [==============================] - 0s 875us/step - loss: 0.4293 - accuracy: 0.7587\n",
      "Epoch 35/100\n",
      "24/24 [==============================] - 0s 1ms/step - loss: 0.4218 - accuracy: 0.7667\n",
      "Epoch 36/100\n",
      "24/24 [==============================] - 0s 1ms/step - loss: 0.4146 - accuracy: 0.7747\n",
      "Epoch 37/100\n",
      "24/24 [==============================] - 0s 875us/step - loss: 0.4078 - accuracy: 0.7800\n",
      "Epoch 38/100\n",
      "24/24 [==============================] - 0s 875us/step - loss: 0.4010 - accuracy: 0.7840\n",
      "Epoch 39/100\n",
      "24/24 [==============================] - 0s 834us/step - loss: 0.3946 - accuracy: 0.7867\n",
      "Epoch 40/100\n",
      "24/24 [==============================] - 0s 875us/step - loss: 0.3886 - accuracy: 0.7893\n",
      "Epoch 41/100\n",
      "24/24 [==============================] - 0s 875us/step - loss: 0.3826 - accuracy: 0.7933\n",
      "Epoch 42/100\n",
      "24/24 [==============================] - 0s 792us/step - loss: 0.3769 - accuracy: 0.7960\n",
      "Epoch 43/100\n",
      "24/24 [==============================] - 0s 875us/step - loss: 0.3713 - accuracy: 0.8040\n",
      "Epoch 44/100\n",
      "24/24 [==============================] - 0s 792us/step - loss: 0.3660 - accuracy: 0.8133\n",
      "Epoch 45/100\n",
      "24/24 [==============================] - 0s 834us/step - loss: 0.3609 - accuracy: 0.8147\n",
      "Epoch 46/100\n",
      "24/24 [==============================] - 0s 833us/step - loss: 0.3561 - accuracy: 0.8200\n",
      "Epoch 47/100\n",
      "24/24 [==============================] - 0s 792us/step - loss: 0.3514 - accuracy: 0.8213\n",
      "Epoch 48/100\n",
      "24/24 [==============================] - 0s 792us/step - loss: 0.3471 - accuracy: 0.8253\n",
      "Epoch 49/100\n",
      "24/24 [==============================] - 0s 833us/step - loss: 0.3429 - accuracy: 0.8267\n",
      "Epoch 50/100\n",
      "24/24 [==============================] - 0s 792us/step - loss: 0.3392 - accuracy: 0.8280\n",
      "Epoch 51/100\n",
      "24/24 [==============================] - 0s 792us/step - loss: 0.3356 - accuracy: 0.8307\n",
      "Epoch 52/100\n",
      "24/24 [==============================] - 0s 833us/step - loss: 0.3322 - accuracy: 0.8307\n",
      "Epoch 53/100\n",
      "24/24 [==============================] - 0s 792us/step - loss: 0.3291 - accuracy: 0.8333\n",
      "Epoch 54/100\n",
      "24/24 [==============================] - 0s 875us/step - loss: 0.3262 - accuracy: 0.8360\n",
      "Epoch 55/100\n",
      "24/24 [==============================] - 0s 875us/step - loss: 0.3236 - accuracy: 0.8413\n",
      "Epoch 56/100\n",
      "24/24 [==============================] - 0s 792us/step - loss: 0.3209 - accuracy: 0.8427\n",
      "Epoch 57/100\n",
      "24/24 [==============================] - 0s 875us/step - loss: 0.3185 - accuracy: 0.8453\n",
      "Epoch 58/100\n",
      "24/24 [==============================] - 0s 917us/step - loss: 0.3161 - accuracy: 0.8507\n",
      "Epoch 59/100\n",
      "24/24 [==============================] - 0s 875us/step - loss: 0.3138 - accuracy: 0.8533\n",
      "Epoch 60/100\n",
      "24/24 [==============================] - 0s 833us/step - loss: 0.3118 - accuracy: 0.8560\n",
      "Epoch 61/100\n",
      "24/24 [==============================] - 0s 834us/step - loss: 0.3098 - accuracy: 0.8573\n",
      "Epoch 62/100\n",
      "24/24 [==============================] - 0s 875us/step - loss: 0.3078 - accuracy: 0.8587\n",
      "Epoch 63/100\n",
      "24/24 [==============================] - 0s 875us/step - loss: 0.3059 - accuracy: 0.8613\n",
      "Epoch 64/100\n",
      "24/24 [==============================] - 0s 917us/step - loss: 0.3041 - accuracy: 0.8640\n",
      "Epoch 65/100\n",
      "24/24 [==============================] - 0s 1ms/step - loss: 0.3024 - accuracy: 0.8653\n",
      "Epoch 66/100\n",
      "24/24 [==============================] - 0s 833us/step - loss: 0.3008 - accuracy: 0.8653\n",
      "Epoch 67/100\n",
      "24/24 [==============================] - 0s 792us/step - loss: 0.2992 - accuracy: 0.8667\n",
      "Epoch 68/100\n",
      "24/24 [==============================] - 0s 792us/step - loss: 0.2976 - accuracy: 0.8680\n",
      "Epoch 69/100\n",
      "24/24 [==============================] - 0s 875us/step - loss: 0.2962 - accuracy: 0.8693\n",
      "Epoch 70/100\n",
      "24/24 [==============================] - 0s 833us/step - loss: 0.2948 - accuracy: 0.8693\n",
      "Epoch 71/100\n",
      "24/24 [==============================] - 0s 917us/step - loss: 0.2934 - accuracy: 0.8693\n",
      "Epoch 72/100\n",
      "24/24 [==============================] - 0s 875us/step - loss: 0.2921 - accuracy: 0.8693\n",
      "Epoch 73/100\n",
      "24/24 [==============================] - 0s 875us/step - loss: 0.2908 - accuracy: 0.8693\n",
      "Epoch 74/100\n",
      "24/24 [==============================] - 0s 875us/step - loss: 0.2896 - accuracy: 0.8747\n",
      "Epoch 75/100\n",
      "24/24 [==============================] - 0s 834us/step - loss: 0.2884 - accuracy: 0.8747\n",
      "Epoch 76/100\n",
      "24/24 [==============================] - 0s 875us/step - loss: 0.2873 - accuracy: 0.8760\n",
      "Epoch 77/100\n",
      "24/24 [==============================] - 0s 834us/step - loss: 0.2861 - accuracy: 0.8760\n",
      "Epoch 78/100\n",
      "24/24 [==============================] - 0s 834us/step - loss: 0.2852 - accuracy: 0.8773\n",
      "Epoch 79/100\n",
      "24/24 [==============================] - 0s 834us/step - loss: 0.2841 - accuracy: 0.8787\n",
      "Epoch 80/100\n",
      "24/24 [==============================] - 0s 833us/step - loss: 0.2831 - accuracy: 0.8787\n",
      "Epoch 81/100\n"
     ]
    },
    {
     "name": "stdout",
     "output_type": "stream",
     "text": [
      "24/24 [==============================] - 0s 834us/step - loss: 0.2822 - accuracy: 0.8800\n",
      "Epoch 82/100\n",
      "24/24 [==============================] - 0s 834us/step - loss: 0.2813 - accuracy: 0.8800\n",
      "Epoch 83/100\n",
      "24/24 [==============================] - 0s 875us/step - loss: 0.2804 - accuracy: 0.8813\n",
      "Epoch 84/100\n",
      "24/24 [==============================] - 0s 792us/step - loss: 0.2795 - accuracy: 0.8813\n",
      "Epoch 85/100\n",
      "24/24 [==============================] - 0s 833us/step - loss: 0.2787 - accuracy: 0.8813\n",
      "Epoch 86/100\n",
      "24/24 [==============================] - 0s 750us/step - loss: 0.2779 - accuracy: 0.8827\n",
      "Epoch 87/100\n",
      "24/24 [==============================] - 0s 792us/step - loss: 0.2772 - accuracy: 0.8840\n",
      "Epoch 88/100\n",
      "24/24 [==============================] - 0s 792us/step - loss: 0.2763 - accuracy: 0.8840\n",
      "Epoch 89/100\n",
      "24/24 [==============================] - 0s 792us/step - loss: 0.2756 - accuracy: 0.8840\n",
      "Epoch 90/100\n",
      "24/24 [==============================] - 0s 792us/step - loss: 0.2750 - accuracy: 0.8840\n",
      "Epoch 91/100\n",
      "24/24 [==============================] - 0s 875us/step - loss: 0.2743 - accuracy: 0.8840\n",
      "Epoch 92/100\n",
      "24/24 [==============================] - 0s 834us/step - loss: 0.2736 - accuracy: 0.8867\n",
      "Epoch 93/100\n",
      "24/24 [==============================] - 0s 834us/step - loss: 0.2730 - accuracy: 0.8853\n",
      "Epoch 94/100\n",
      "24/24 [==============================] - 0s 875us/step - loss: 0.2724 - accuracy: 0.8853\n",
      "Epoch 95/100\n",
      "24/24 [==============================] - 0s 834us/step - loss: 0.2718 - accuracy: 0.8853\n",
      "Epoch 96/100\n",
      "24/24 [==============================] - 0s 833us/step - loss: 0.2713 - accuracy: 0.8840\n",
      "Epoch 97/100\n",
      "24/24 [==============================] - 0s 875us/step - loss: 0.2707 - accuracy: 0.8840\n",
      "Epoch 98/100\n",
      "24/24 [==============================] - 0s 834us/step - loss: 0.2702 - accuracy: 0.8853\n",
      "Epoch 99/100\n",
      "24/24 [==============================] - 0s 833us/step - loss: 0.2698 - accuracy: 0.8840\n",
      "Epoch 100/100\n",
      "24/24 [==============================] - 0s 834us/step - loss: 0.2692 - accuracy: 0.8853\n"
     ]
    }
   ],
   "source": [
    "# Training the model with the nonlinear data\n",
    "model_moon = nn_model.fit(X_moon_train_scaled, y_moon_train, epochs=100, shuffle=True)\n"
   ]
  },
  {
   "cell_type": "code",
   "execution_count": 17,
   "metadata": {},
   "outputs": [
    {
     "data": {
      "text/plain": [
       "<matplotlib.axes._subplots.AxesSubplot at 0x1cd1e104788>"
      ]
     },
     "execution_count": 17,
     "metadata": {},
     "output_type": "execute_result"
    },
    {
     "data": {
      "image/png": "[encoded data removed]",
      "text/plain": [
       "<Figure size 432x288 with 1 Axes>"
      ]
     },
     "metadata": {
      "needs_background": "light"
     },
     "output_type": "display_data"
    }
   ],
   "source": [
    "# Create a DataFrame containing training history\n",
    "history_df = pd.DataFrame(model_moon.history, index=range(1,len(model_moon.history[\"loss\"])+1))\n",
    "\n",
    "# Plot the loss\n",
    "history_df.plot(y=\"loss\")"
   ]
  },
  {
   "cell_type": "code",
   "execution_count": 18,
   "metadata": {},
   "outputs": [
    {
     "data": {
      "text/plain": [
       "<matplotlib.axes._subplots.AxesSubplot at 0x1cd1f527ac8>"
      ]
     },
     "execution_count": 18,
     "metadata": {},
     "output_type": "execute_result"
    },
    {
     "data": {
      "image/png": "[encoded data removed]",
      "text/plain": [
       "<Figure size 432x288 with 1 Axes>"
      ]
     },
     "metadata": {
      "needs_background": "light"
     },
     "output_type": "display_data"
    }
   ],
   "source": [
    "# Plot the loss\n",
    "history_df.plot(y=\"accuracy\")"
   ]
  },
  {
   "cell_type": "code",
   "execution_count": null,
   "metadata": {},
   "outputs": [],
   "source": []
  }
 ],
 "metadata": {
  "kernelspec": {
   "display_name": "mlenv",
   "language": "python",
   "name": "mlenv"
  },
  "language_info": {
   "codemirror_mode": {
    "name": "ipython",
    "version": 3
   },
   "file_extension": ".py",
   "mimetype": "text/x-python",
   "name": "python",
   "nbconvert_exporter": "python",
   "pygments_lexer": "ipython3",
   "version": "3.7.7"
  }
 },
 "nbformat": 4,
 "nbformat_minor": 4
}

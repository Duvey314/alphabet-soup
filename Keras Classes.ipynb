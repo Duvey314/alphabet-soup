{
 "cells": [
  {
   "cell_type": "code",
   "execution_count": 1,
   "metadata": {},
   "outputs": [],
   "source": [
    "# Import our dependencies\n",
    "import pandas as pd\n",
    "import matplotlib as plt\n",
    "from sklearn.datasets import make_blobs\n",
    "import sklearn as skl\n",
    "import tensorflow as tf"
   ]
  },
  {
   "cell_type": "code",
   "execution_count": 2,
   "metadata": {},
   "outputs": [
    {
     "data": {
      "text/plain": [
       "<matplotlib.axes._subplots.AxesSubplot at 0x1f1970aaf48>"
      ]
     },
     "execution_count": 2,
     "metadata": {},
     "output_type": "execute_result"
    },
    {
     "data": {
      "image/png": "[encoded data removed]",
      "text/plain": [
       "<Figure size 432x288 with 2 Axes>"
      ]
     },
     "metadata": {
      "needs_background": "light"
     },
     "output_type": "display_data"
    }
   ],
   "source": [
    "# Generate dummy dataset\n",
    "X, y = make_blobs(n_samples=1000, centers=2, n_features=2, random_state=78)\n",
    "\n",
    "# Creating a DataFrame with the dummy data\n",
    "df = pd.DataFrame(X, columns=[\"Feature 1\", \"Feature 2\"])\n",
    "df[\"Target\"] = y\n",
    "\n",
    "# Plotting the dummy data\n",
    "df.plot.scatter(x=\"Feature 1\", y=\"Feature 2\", c=\"Target\", colormap=\"winter\")\n"
   ]
  },
  {
   "cell_type": "code",
   "execution_count": 3,
   "metadata": {},
   "outputs": [],
   "source": [
    "# Use sklearn to split dataset\n",
    "from sklearn.model_selection import train_test_split\n",
    "X_train, X_test, y_train, y_test = train_test_split(X, y, random_state=78)"
   ]
  },
  {
   "cell_type": "code",
   "execution_count": 4,
   "metadata": {},
   "outputs": [],
   "source": [
    "# Create scaler instance\n",
    "X_scaler = skl.preprocessing.StandardScaler()\n",
    "\n",
    "# Fit the scaler\n",
    "X_scaler.fit(X_train)\n",
    "\n",
    "# Scale the data\n",
    "X_train_scaled = X_scaler.transform(X_train)\n",
    "X_test_scaled = X_scaler.transform(X_test)"
   ]
  },
  {
   "cell_type": "code",
   "execution_count": 5,
   "metadata": {},
   "outputs": [],
   "source": [
    "# Create the Keras Sequential model\n",
    "nn_model = tf.keras.models.Sequential()"
   ]
  },
  {
   "cell_type": "code",
   "execution_count": 6,
   "metadata": {},
   "outputs": [],
   "source": [
    "# Add our first Dense layer, including the input layer\n",
    "nn_model.add(tf.keras.layers.Dense(units=1, activation=\"relu\", input_dim=2))"
   ]
  },
  {
   "cell_type": "code",
   "execution_count": 7,
   "metadata": {},
   "outputs": [],
   "source": [
    "# Add the output layer that uses a probability activation function\n",
    "nn_model.add(tf.keras.layers.Dense(units=1, activation=\"sigmoid\"))"
   ]
  },
  {
   "cell_type": "code",
   "execution_count": 8,
   "metadata": {},
   "outputs": [
    {
     "name": "stdout",
     "output_type": "stream",
     "text": [
      "Model: \"sequential\"\n",
      "_________________________________________________________________\n",
      "Layer (type)                 Output Shape              Param #   \n",
      "=================================================================\n",
      "dense (Dense)                (None, 1)                 3         \n",
      "_________________________________________________________________\n",
      "dense_1 (Dense)              (None, 1)                 2         \n",
      "=================================================================\n",
      "Total params: 5\n",
      "Trainable params: 5\n",
      "Non-trainable params: 0\n",
      "_________________________________________________________________\n"
     ]
    }
   ],
   "source": [
    "# Check the structure of the Sequential model\n",
    "nn_model.summary()"
   ]
  },
  {
   "cell_type": "code",
   "execution_count": 9,
   "metadata": {},
   "outputs": [],
   "source": [
    "# Compile the Sequential model together and customize metrics\n",
    "nn_model.compile(loss=\"binary_crossentropy\", optimizer=\"adam\", metrics=[\"accuracy\"])\n"
   ]
  },
  {
   "cell_type": "code",
   "execution_count": 10,
   "metadata": {},
   "outputs": [
    {
     "name": "stdout",
     "output_type": "stream",
     "text": [
      "Epoch 1/100\n",
      "24/24 [==============================] - 0s 583us/step - loss: 0.5076 - accuracy: 0.9507\n",
      "Epoch 2/100\n",
      "24/24 [==============================] - 0s 500us/step - loss: 0.4925 - accuracy: 0.9547\n",
      "Epoch 3/100\n",
      "24/24 [==============================] - 0s 542us/step - loss: 0.4779 - accuracy: 0.9560\n",
      "Epoch 4/100\n",
      "24/24 [==============================] - 0s 500us/step - loss: 0.4638 - accuracy: 0.9587\n",
      "Epoch 5/100\n",
      "24/24 [==============================] - 0s 500us/step - loss: 0.4503 - accuracy: 0.9640\n",
      "Epoch 6/100\n",
      "24/24 [==============================] - 0s 500us/step - loss: 0.4374 - accuracy: 0.9667\n",
      "Epoch 7/100\n",
      "24/24 [==============================] - 0s 500us/step - loss: 0.4249 - accuracy: 0.9693\n",
      "Epoch 8/100\n",
      "24/24 [==============================] - 0s 542us/step - loss: 0.4130 - accuracy: 0.9720\n",
      "Epoch 9/100\n",
      "24/24 [==============================] - 0s 542us/step - loss: 0.4016 - accuracy: 0.9733\n",
      "Epoch 10/100\n",
      "24/24 [==============================] - 0s 500us/step - loss: 0.3908 - accuracy: 0.9747\n",
      "Epoch 11/100\n",
      "24/24 [==============================] - 0s 542us/step - loss: 0.3804 - accuracy: 0.9773\n",
      "Epoch 12/100\n",
      "24/24 [==============================] - 0s 625us/step - loss: 0.3706 - accuracy: 0.9787\n",
      "Epoch 13/100\n",
      "24/24 [==============================] - 0s 542us/step - loss: 0.3611 - accuracy: 0.9800\n",
      "Epoch 14/100\n",
      "24/24 [==============================] - 0s 542us/step - loss: 0.3520 - accuracy: 0.9840\n",
      "Epoch 15/100\n",
      "24/24 [==============================] - 0s 542us/step - loss: 0.3434 - accuracy: 0.9840\n",
      "Epoch 16/100\n",
      "24/24 [==============================] - 0s 500us/step - loss: 0.3350 - accuracy: 0.9840\n",
      "Epoch 17/100\n",
      "24/24 [==============================] - 0s 500us/step - loss: 0.3269 - accuracy: 0.9840\n",
      "Epoch 18/100\n",
      "24/24 [==============================] - 0s 500us/step - loss: 0.3190 - accuracy: 0.9840\n",
      "Epoch 19/100\n",
      "24/24 [==============================] - 0s 500us/step - loss: 0.3114 - accuracy: 0.9853\n",
      "Epoch 20/100\n",
      "24/24 [==============================] - 0s 500us/step - loss: 0.3040 - accuracy: 0.9853\n",
      "Epoch 21/100\n",
      "24/24 [==============================] - 0s 542us/step - loss: 0.2968 - accuracy: 0.9853\n",
      "Epoch 22/100\n",
      "24/24 [==============================] - 0s 542us/step - loss: 0.2899 - accuracy: 0.9853\n",
      "Epoch 23/100\n",
      "24/24 [==============================] - 0s 542us/step - loss: 0.2831 - accuracy: 0.9867\n",
      "Epoch 24/100\n",
      "24/24 [==============================] - 0s 542us/step - loss: 0.2766 - accuracy: 0.9867\n",
      "Epoch 25/100\n",
      "24/24 [==============================] - 0s 583us/step - loss: 0.2702 - accuracy: 0.9867\n",
      "Epoch 26/100\n",
      "24/24 [==============================] - 0s 584us/step - loss: 0.2641 - accuracy: 0.9867\n",
      "Epoch 27/100\n",
      "24/24 [==============================] - 0s 542us/step - loss: 0.2582 - accuracy: 0.9893\n",
      "Epoch 28/100\n",
      "24/24 [==============================] - 0s 500us/step - loss: 0.2524 - accuracy: 0.9907\n",
      "Epoch 29/100\n",
      "24/24 [==============================] - 0s 542us/step - loss: 0.2469 - accuracy: 0.9920\n",
      "Epoch 30/100\n",
      "24/24 [==============================] - 0s 500us/step - loss: 0.2416 - accuracy: 0.9947\n",
      "Epoch 31/100\n",
      "24/24 [==============================] - 0s 542us/step - loss: 0.2363 - accuracy: 0.9947\n",
      "Epoch 32/100\n",
      "24/24 [==============================] - 0s 625us/step - loss: 0.2313 - accuracy: 0.9947\n",
      "Epoch 33/100\n",
      "24/24 [==============================] - 0s 750us/step - loss: 0.2264 - accuracy: 0.9960\n",
      "Epoch 34/100\n",
      "24/24 [==============================] - 0s 709us/step - loss: 0.2216 - accuracy: 0.9960\n",
      "Epoch 35/100\n",
      "24/24 [==============================] - 0s 667us/step - loss: 0.2169 - accuracy: 0.9960\n",
      "Epoch 36/100\n",
      "24/24 [==============================] - 0s 667us/step - loss: 0.2124 - accuracy: 0.9960\n",
      "Epoch 37/100\n",
      "24/24 [==============================] - 0s 834us/step - loss: 0.2080 - accuracy: 0.9960\n",
      "Epoch 38/100\n",
      "24/24 [==============================] - 0s 792us/step - loss: 0.2038 - accuracy: 0.9960\n",
      "Epoch 39/100\n",
      "24/24 [==============================] - 0s 667us/step - loss: 0.1997 - accuracy: 0.9960\n",
      "Epoch 40/100\n",
      "24/24 [==============================] - 0s 667us/step - loss: 0.1957 - accuracy: 0.9960\n",
      "Epoch 41/100\n",
      "24/24 [==============================] - 0s 750us/step - loss: 0.1918 - accuracy: 0.9973\n",
      "Epoch 42/100\n",
      "24/24 [==============================] - 0s 708us/step - loss: 0.1880 - accuracy: 0.9973\n",
      "Epoch 43/100\n",
      "24/24 [==============================] - 0s 625us/step - loss: 0.1843 - accuracy: 0.9987\n",
      "Epoch 44/100\n",
      "24/24 [==============================] - 0s 750us/step - loss: 0.1808 - accuracy: 0.9987\n",
      "Epoch 45/100\n",
      "24/24 [==============================] - 0s 583us/step - loss: 0.1772 - accuracy: 0.9987\n",
      "Epoch 46/100\n",
      "24/24 [==============================] - 0s 583us/step - loss: 0.1739 - accuracy: 0.9987\n",
      "Epoch 47/100\n",
      "24/24 [==============================] - 0s 542us/step - loss: 0.1705 - accuracy: 0.9987\n",
      "Epoch 48/100\n",
      "24/24 [==============================] - 0s 500us/step - loss: 0.1674 - accuracy: 0.9987\n",
      "Epoch 49/100\n",
      "24/24 [==============================] - 0s 500us/step - loss: 0.1642 - accuracy: 0.9987\n",
      "Epoch 50/100\n",
      "24/24 [==============================] - 0s 542us/step - loss: 0.1613 - accuracy: 0.9987\n",
      "Epoch 51/100\n",
      "24/24 [==============================] - 0s 542us/step - loss: 0.1583 - accuracy: 0.9987\n",
      "Epoch 52/100\n",
      "24/24 [==============================] - 0s 583us/step - loss: 0.1554 - accuracy: 0.9987\n",
      "Epoch 53/100\n",
      "24/24 [==============================] - 0s 542us/step - loss: 0.1526 - accuracy: 1.0000\n",
      "Epoch 54/100\n",
      "24/24 [==============================] - 0s 584us/step - loss: 0.1498 - accuracy: 1.0000\n",
      "Epoch 55/100\n",
      "24/24 [==============================] - 0s 542us/step - loss: 0.1472 - accuracy: 1.0000\n",
      "Epoch 56/100\n",
      "24/24 [==============================] - 0s 583us/step - loss: 0.1446 - accuracy: 1.0000\n",
      "Epoch 57/100\n",
      "24/24 [==============================] - 0s 625us/step - loss: 0.1420 - accuracy: 1.0000\n",
      "Epoch 58/100\n",
      "24/24 [==============================] - 0s 583us/step - loss: 0.1395 - accuracy: 1.0000\n",
      "Epoch 59/100\n",
      "24/24 [==============================] - 0s 709us/step - loss: 0.1371 - accuracy: 1.0000\n",
      "Epoch 60/100\n",
      "24/24 [==============================] - 0s 709us/step - loss: 0.1347 - accuracy: 1.0000\n",
      "Epoch 61/100\n",
      "24/24 [==============================] - 0s 542us/step - loss: 0.1324 - accuracy: 1.0000\n",
      "Epoch 62/100\n",
      "24/24 [==============================] - 0s 542us/step - loss: 0.1302 - accuracy: 1.0000\n",
      "Epoch 63/100\n",
      "24/24 [==============================] - 0s 542us/step - loss: 0.1280 - accuracy: 1.0000\n",
      "Epoch 64/100\n",
      "24/24 [==============================] - 0s 583us/step - loss: 0.1258 - accuracy: 1.0000\n",
      "Epoch 65/100\n",
      "24/24 [==============================] - 0s 583us/step - loss: 0.1237 - accuracy: 1.0000\n",
      "Epoch 66/100\n",
      "24/24 [==============================] - 0s 542us/step - loss: 0.1217 - accuracy: 1.0000\n",
      "Epoch 67/100\n",
      "24/24 [==============================] - 0s 542us/step - loss: 0.1196 - accuracy: 1.0000\n",
      "Epoch 68/100\n",
      "24/24 [==============================] - 0s 542us/step - loss: 0.1177 - accuracy: 1.0000\n",
      "Epoch 69/100\n",
      "24/24 [==============================] - 0s 542us/step - loss: 0.1158 - accuracy: 1.0000\n",
      "Epoch 70/100\n",
      "24/24 [==============================] - 0s 500us/step - loss: 0.1139 - accuracy: 1.0000\n",
      "Epoch 71/100\n",
      "24/24 [==============================] - 0s 500us/step - loss: 0.1120 - accuracy: 1.0000\n",
      "Epoch 72/100\n",
      "24/24 [==============================] - 0s 500us/step - loss: 0.1103 - accuracy: 1.0000\n",
      "Epoch 73/100\n",
      "24/24 [==============================] - 0s 500us/step - loss: 0.1085 - accuracy: 1.0000\n",
      "Epoch 74/100\n",
      "24/24 [==============================] - 0s 542us/step - loss: 0.1068 - accuracy: 1.0000\n",
      "Epoch 75/100\n",
      "24/24 [==============================] - 0s 542us/step - loss: 0.1051 - accuracy: 1.0000\n",
      "Epoch 76/100\n",
      "24/24 [==============================] - 0s 542us/step - loss: 0.1034 - accuracy: 1.0000\n",
      "Epoch 77/100\n",
      "24/24 [==============================] - 0s 542us/step - loss: 0.1018 - accuracy: 1.0000\n",
      "Epoch 78/100\n",
      "24/24 [==============================] - 0s 500us/step - loss: 0.1002 - accuracy: 1.0000\n",
      "Epoch 79/100\n",
      "24/24 [==============================] - 0s 500us/step - loss: 0.0987 - accuracy: 1.0000\n",
      "Epoch 80/100\n",
      "24/24 [==============================] - 0s 542us/step - loss: 0.0972 - accuracy: 1.0000\n",
      "Epoch 81/100\n"
     ]
    },
    {
     "name": "stdout",
     "output_type": "stream",
     "text": [
      "24/24 [==============================] - 0s 542us/step - loss: 0.0956 - accuracy: 1.0000\n",
      "Epoch 82/100\n",
      "24/24 [==============================] - 0s 542us/step - loss: 0.0942 - accuracy: 1.0000\n",
      "Epoch 83/100\n",
      "24/24 [==============================] - 0s 500us/step - loss: 0.0928 - accuracy: 1.0000\n",
      "Epoch 84/100\n",
      "24/24 [==============================] - 0s 542us/step - loss: 0.0914 - accuracy: 1.0000\n",
      "Epoch 85/100\n",
      "24/24 [==============================] - 0s 500us/step - loss: 0.0900 - accuracy: 1.0000\n",
      "Epoch 86/100\n",
      "24/24 [==============================] - 0s 542us/step - loss: 0.0886 - accuracy: 1.0000\n",
      "Epoch 87/100\n",
      "24/24 [==============================] - 0s 500us/step - loss: 0.0873 - accuracy: 1.0000\n",
      "Epoch 88/100\n",
      "24/24 [==============================] - 0s 500us/step - loss: 0.0860 - accuracy: 1.0000\n",
      "Epoch 89/100\n",
      "24/24 [==============================] - 0s 542us/step - loss: 0.0848 - accuracy: 1.0000\n",
      "Epoch 90/100\n",
      "24/24 [==============================] - 0s 542us/step - loss: 0.0835 - accuracy: 1.0000\n",
      "Epoch 91/100\n",
      "24/24 [==============================] - 0s 542us/step - loss: 0.0823 - accuracy: 1.0000\n",
      "Epoch 92/100\n",
      "24/24 [==============================] - 0s 542us/step - loss: 0.0811 - accuracy: 1.0000\n",
      "Epoch 93/100\n",
      "24/24 [==============================] - 0s 583us/step - loss: 0.0799 - accuracy: 1.0000\n",
      "Epoch 94/100\n",
      "24/24 [==============================] - 0s 542us/step - loss: 0.0788 - accuracy: 1.0000\n",
      "Epoch 95/100\n",
      "24/24 [==============================] - 0s 542us/step - loss: 0.0776 - accuracy: 1.0000\n",
      "Epoch 96/100\n",
      "24/24 [==============================] - 0s 542us/step - loss: 0.0765 - accuracy: 1.0000\n",
      "Epoch 97/100\n",
      "24/24 [==============================] - 0s 542us/step - loss: 0.0754 - accuracy: 1.0000\n",
      "Epoch 98/100\n",
      "24/24 [==============================] - 0s 583us/step - loss: 0.0743 - accuracy: 1.0000\n",
      "Epoch 99/100\n",
      "24/24 [==============================] - 0s 583us/step - loss: 0.0733 - accuracy: 1.0000\n",
      "Epoch 100/100\n",
      "24/24 [==============================] - 0s 542us/step - loss: 0.0722 - accuracy: 1.0000\n"
     ]
    }
   ],
   "source": [
    "# Fit the model to the training data\n",
    "fit_model = nn_model.fit(X_train_scaled, y_train, epochs=100)\n"
   ]
  },
  {
   "cell_type": "code",
   "execution_count": 11,
   "metadata": {},
   "outputs": [
    {
     "data": {
      "text/plain": [
       "<matplotlib.axes._subplots.AxesSubplot at 0x1f198aed2c8>"
      ]
     },
     "execution_count": 11,
     "metadata": {},
     "output_type": "execute_result"
    },
    {
     "data": {
      "image/png": "[encoded data removed]",
      "text/plain": [
       "<Figure size 432x288 with 1 Axes>"
      ]
     },
     "metadata": {
      "needs_background": "light"
     },
     "output_type": "display_data"
    }
   ],
   "source": [
    "# Create a DataFrame containing training history\n",
    "history_df = pd.DataFrame(fit_model.history, index=range(1,len(fit_model.history[\"loss\"])+1))\n",
    "\n",
    "# Plot the loss\n",
    "history_df.plot(y=\"loss\")"
   ]
  },
  {
   "cell_type": "code",
   "execution_count": 12,
   "metadata": {},
   "outputs": [
    {
     "data": {
      "text/plain": [
       "<matplotlib.axes._subplots.AxesSubplot at 0x1f199c9bf88>"
      ]
     },
     "execution_count": 12,
     "metadata": {},
     "output_type": "execute_result"
    },
    {
     "data": {
      "image/png": "[encoded data removed]",
      "text/plain": [
       "<Figure size 432x288 with 1 Axes>"
      ]
     },
     "metadata": {
      "needs_background": "light"
     },
     "output_type": "display_data"
    }
   ],
   "source": [
    "# Plot the accuracy\n",
    "history_df.plot(y=\"accuracy\")\n"
   ]
  },
  {
   "cell_type": "code",
   "execution_count": 13,
   "metadata": {},
   "outputs": [
    {
     "name": "stdout",
     "output_type": "stream",
     "text": [
      "8/8 - 0s - loss: 0.0674 - accuracy: 1.0000\n",
      "Loss: 0.06743191182613373, Accuracy: 1.0\n"
     ]
    }
   ],
   "source": [
    "# Evaluate the model using the test data\n",
    "model_loss, model_accuracy = nn_model.evaluate(X_test_scaled,y_test,verbose=2)\n",
    "print(f\"Loss: {model_loss}, Accuracy: {model_accuracy}\")"
   ]
  },
  {
   "cell_type": "code",
   "execution_count": null,
   "metadata": {},
   "outputs": [],
   "source": []
  }
 ],
 "metadata": {
  "kernelspec": {
   "display_name": "mlenv",
   "language": "python",
   "name": "mlenv"
  },
  "language_info": {
   "codemirror_mode": {
    "name": "ipython",
    "version": 3
   },
   "file_extension": ".py",
   "mimetype": "text/x-python",
   "name": "python",
   "nbconvert_exporter": "python",
   "pygments_lexer": "ipython3",
   "version": "3.7.7"
  }
 },
 "nbformat": 4,
 "nbformat_minor": 4
}
